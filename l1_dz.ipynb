import matplotlib.pyplot as plt
%matplotlib inline
import numpy as np
'''Постройте на одном графике две кривые y(x) для функции двух переменной y(k,x)=cos(k∙x), взяв для одной кривой значение k=1, а для другой – любое другое k, не равное 1.'''

x = np.linspace(0, 20, 20, 120)
plt.plot(x, np.cos(x), np.cos(7*x))
